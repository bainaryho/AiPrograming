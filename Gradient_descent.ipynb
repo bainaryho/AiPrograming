{
  "nbformat": 4,
  "nbformat_minor": 0,
  "metadata": {
    "colab": {
      "provenance": [],
      "authorship_tag": "ABX9TyMb03J0Sxz0X/eLFsPETwAk",
      "include_colab_link": true
    },
    "kernelspec": {
      "name": "python3",
      "display_name": "Python 3"
    },
    "language_info": {
      "name": "python"
    }
  },
  "cells": [
    {
      "cell_type": "markdown",
      "metadata": {
        "id": "view-in-github",
        "colab_type": "text"
      },
      "source": [
        "<a href=\"https://colab.research.google.com/github/bainaryho/AiPrograming/blob/master/Gradient_descent.ipynb\" target=\"_parent\"><img src=\"https://colab.research.google.com/assets/colab-badge.svg\" alt=\"Open In Colab\"/></a>"
      ]
    },
    {
      "cell_type": "code",
      "execution_count": null,
      "metadata": {
        "colab": {
          "base_uri": "https://localhost:8080/",
          "height": 465
        },
        "id": "VFHhPP5I-Wpg",
        "outputId": "1b049316-591d-4153-e06c-a757db30af5d"
      },
      "outputs": [
        {
          "output_type": "stream",
          "name": "stdout",
          "text": [
            "iteration   0: loss 17.17 w 0.10 b 0.08 \n",
            "iteration  50: loss 0.61 w 1.73 b 1.71 \n",
            "iteration 100: loss 0.33 w 1.73 b 2.05 \n",
            "iteration 150: loss 0.24 w 1.63 b 2.23 \n",
            "iteration 200: loss 0.19 w 1.53 b 2.36 \n",
            "iteration 250: loss 0.16 w 1.47 b 2.45 \n",
            "iteration 300: loss 0.15 w 1.41 b 2.52 \n",
            "iteration 350: loss 0.14 w 1.37 b 2.58 \n",
            "iteration 400: loss 0.13 w 1.34 b 2.62 \n",
            "iteration 450: loss 0.13 w 1.32 b 2.65 \n",
            "1.3033228991130752 2.6760184293088694\n"
          ]
        },
        {
          "output_type": "display_data",
          "data": {
            "text/plain": [
              "<Figure size 432x288 with 1 Axes>"
            ],
            "image/png": "[encoded data removed]"
          },
          "metadata": {
            "needs_background": "light"
          }
        }
      ],
      "source": [
        "import numpy as np\n",
        "import matplotlib.pyplot as plt\n",
        "\n",
        "def mse(y,y_hat):\n",
        "  return ((y-y_hat)**2).mean()\n",
        "def mse_val(y,predict_result):\n",
        "  return mse(np.array(y),np.array(predict_result))\n",
        "\n",
        "X = np.array([0.0, 1.0, 2.0])\n",
        "y = np.array([3.0, 3.5, 5.5])\n",
        "\n",
        "w = 0 # 기울기\n",
        "b = 0 # 절편\n",
        "\n",
        "lrate = 0.01 # 학습률\n",
        "epochs = 500 # 반복 횟수\n",
        "\n",
        "n = float(len(X)) # 입력 데이터의 개수\n",
        "\n",
        "# 경사 하강법 //머신러닝 라이브러리없이 for문으로 구현한거\n",
        "for i in range(epochs): \n",
        "  y_pred = w*X + b # 선형 회귀 예측값\n",
        "  dw = (2/n) * sum(X * (y_pred-y)) # 넘파이 배열간의 산술 계산은 요소별로 적용\n",
        "  db = (2/n) * sum(y_pred-y) # sum()은 모든 요소들의 합을 계산하는 내장 함수\n",
        "  w = w - lrate * dw # 기울기 수정\n",
        "  b = b - lrate * db # 절편 수정\n",
        "  if (i%50==0):\n",
        "    print('iteration %3d: loss %4.2f w %3.2f b %3.2f '%(i,mse(y,y_pred),w,b))\n",
        "\n",
        "# 기울기와 절편을 출력한다. \n",
        "print (w, b)\n",
        "\n",
        "# 예측값을 만든다.\n",
        "y_pred = w*X + b\n",
        "\n",
        "# 입력 데이터를 그래프 상에 찍는다. \n",
        "plt.scatter(X, y)\n",
        "\n",
        "# 예측값은 선그래프로 그린다. \n",
        "plt.plot([min(X), max(X)], [min(y_pred), max(y_pred)], color='red')\n",
        "plt.show()"
      ]
    },
    {
      "cell_type": "markdown",
      "source": [
        "# 새 섹션"
      ],
      "metadata": {
        "id": "qUBGYZ0rHrFh"
      }
    }
  ]
}